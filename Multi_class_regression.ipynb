{
  "nbformat": 4,
  "nbformat_minor": 0,
  "metadata": {
    "colab": {
      "provenance": [],
      "include_colab_link": true
    },
    "kernelspec": {
      "name": "python3",
      "display_name": "Python 3"
    },
    "language_info": {
      "name": "python"
    }
  },
  "cells": [
    {
      "cell_type": "markdown",
      "metadata": {
        "id": "view-in-github",
        "colab_type": "text"
      },
      "source": [
        "<a href=\"https://colab.research.google.com/github/kithmini-wijesiri/sample_projects/blob/master/Multi_class_regression.ipynb\" target=\"_parent\"><img src=\"https://colab.research.google.com/assets/colab-badge.svg\" alt=\"Open In Colab\"/></a>"
      ]
    },
    {
      "cell_type": "code",
      "execution_count": null,
      "metadata": {
        "id": "PzJ-KhlBDIWt"
      },
      "outputs": [],
      "source": [
        "# basic imports\n",
        "import sys\n",
        "sys.path.append('../')\n",
        "import matplotlib.pyplot as plt\n",
        "datapath = './'\n",
        "\n",
        "# import autograd wrapped numpy\n",
        "import autograd.numpy as np"
      ]
    },
    {
      "cell_type": "code",
      "source": [
        "# look at the content of the file\n",
        "!cat 3class_data.csv"
      ],
      "metadata": {
        "id": "pkeah0s3FfLl"
      },
      "execution_count": null,
      "outputs": []
    },
    {
      "cell_type": "code",
      "source": [
        "!wc 3class_data.csv"
      ],
      "metadata": {
        "id": "KVOLJyBeFgpf"
      },
      "execution_count": null,
      "outputs": []
    },
    {
      "cell_type": "markdown",
      "source": [
        "##**Multi-class Perceptron**"
      ],
      "metadata": {
        "id": "UzCtLkwJDlDn"
      }
    },
    {
      "cell_type": "markdown",
      "source": [
        "Here we need to make sure the trained model achieves zero misclassfications."
      ],
      "metadata": {
        "id": "ETTEbqj-FqJt"
      }
    },
    {
      "cell_type": "code",
      "source": [
        "# using an automatic differentiator - like the one imported via the statement below - makes coding up gradient descent a breeze\n",
        "from autograd import numpy as np\n",
        "from autograd import value_and_grad\n",
        "\n",
        "# gradient descent function - inputs: g (input function), alpha (steplength parameter), max_its (maximum number of iterations), w (initialization)\n",
        "def gradient_descent(g,alpha_choice,max_its,w,version):\n",
        "    # compute the gradient function of our input function - note this is a function too\n",
        "    # that - when evaluated - returns both the gradient and function evaluations (remember\n",
        "    # as discussed in Chapter 3 we always ge the function evaluation 'for free' when we use\n",
        "    # an Automatic Differntiator to evaluate the gradient)\n",
        "    gradient = value_and_grad(g)\n",
        "\n",
        "    # run the gradient descent loop\n",
        "    weight_history = []      # container for weight history\n",
        "    cost_history = []        # container for corresponding cost function history\n",
        "    alpha = 0\n",
        "    for k in range(1,max_its+1):\n",
        "        # check if diminishing steplength rule used\n",
        "        if alpha_choice == 'diminishing':\n",
        "            alpha = 1/float(k)\n",
        "        else:\n",
        "            alpha = alpha_choice\n",
        "\n",
        "        # evaluate the gradient, store current weights and cost function value\n",
        "        cost_eval,grad_eval = gradient(w)\n",
        "        weight_history.append(w)\n",
        "        cost_history.append(cost_eval)\n",
        "\n",
        "        if version == 'full':\n",
        "            grad_norm = np.linalg.norm(grad_eval)\n",
        "            if grad_norm == 0:\n",
        "                grad_norm += 10**-6*np.sign(2*np.random.rand(1) - 1)\n",
        "            grad_eval /= grad_norm\n",
        "\n",
        "        # normalize components\n",
        "        if version == 'component':\n",
        "            component_norm = np.abs(grad_eval) + 10**(-8)\n",
        "            grad_eval /= component_norm\n",
        "\n",
        "        if version == 'none':\n",
        "            grad_eval = grad_eval\n",
        "\n",
        "        # take gradient descent step\n",
        "        w = w - alpha*grad_eval\n",
        "\n",
        "    # collect final weights\n",
        "    weight_history.append(w)\n",
        "    # compute final cost function value via g itself (since we aren't computing\n",
        "    # the gradient at the final step we don't get the final cost function value\n",
        "    # via the Automatic Differentiatoor)\n",
        "    cost_history.append(g(w))\n",
        "    return weight_history,cost_history"
      ],
      "metadata": {
        "id": "zi4Q5KPqDllr"
      },
      "execution_count": null,
      "outputs": []
    },
    {
      "cell_type": "code",
      "source": [
        "# compute C linear combinations of input point, one per classifier\n",
        "def model(x,w):\n",
        "    a = w[0] + np.dot(x.T,w[1:])\n",
        "    return a.T"
      ],
      "metadata": {
        "id": "6_3QNopnDuBd"
      },
      "execution_count": null,
      "outputs": []
    },
    {
      "cell_type": "code",
      "source": [
        "lam = 10**-5  # our regularization parameter\n",
        "def multiclass_perceptron(w):\n",
        "    # pre-compute predictions on all points\n",
        "    all_evals = model(x,w)\n",
        "\n",
        "    # compute maximum across data points\n",
        "    a = np.max(all_evals,axis = 0)\n",
        "\n",
        "    # compute cost in compact form\n",
        "    b = all_evals[y.astype(int).flatten(),np.arange(np.size(y))]\n",
        "    cost = np.sum(a - b)\n",
        "\n",
        "    cost /= float(np.size(y))\n",
        "    # add regularizer\n",
        "    cost = cost + lam*np.linalg.norm(w[1:,:],'fro')**2\n",
        "\n",
        "    # return average\n",
        "    return cost"
      ],
      "metadata": {
        "id": "x2m5nBY8EyPT"
      },
      "execution_count": null,
      "outputs": []
    },
    {
      "cell_type": "code",
      "source": [
        "# load in dataset\n",
        "data = np.loadtxt(datapath + '3class_data.csv',delimiter = ',')\n",
        "\n",
        "# get input/output pairs\n",
        "x = data[:-1,:]\n",
        "y = data[-1:,:]"
      ],
      "metadata": {
        "id": "WvVJQq-qE051"
      },
      "execution_count": null,
      "outputs": []
    },
    {
      "cell_type": "code",
      "source": [
        "np.random.seed(5819)\n",
        "# run gradient descent to minimize cost\n",
        "g = multiclass_perceptron; w = 0.1*np.random.randn(3,3); max_its = 50; alpha_choice = 10**(-1);\n",
        "weight_history,cost_history = gradient_descent(g,alpha_choice,max_its,w, version='none')"
      ],
      "metadata": {
        "id": "Aa1MLhgeE3eN"
      },
      "execution_count": null,
      "outputs": []
    },
    {
      "cell_type": "code",
      "source": [
        "%matplotlib inline\n",
        "import matplotlib.pyplot as plt\n",
        "\n",
        "plt.plot(cost_history);\n",
        "plt.xlabel(\"k\");\n",
        "plt.ylabel(\"g(w^k)\");"
      ],
      "metadata": {
        "colab": {
          "base_uri": "https://localhost:8080/",
          "height": 279
        },
        "id": "nvtlbqa_E5m4",
        "outputId": "7bf8831f-6055-4b6d-f171-29813e89827a"
      },
      "execution_count": null,
      "outputs": [
        {
          "output_type": "display_data",
          "data": {
            "text/plain": [
              "<Figure size 432x288 with 1 Axes>"
            ],
            "image/png": "[encoded data removed]"
          },
          "metadata": {
            "needs_background": "light"
          }
        }
      ]
    },
    {
      "cell_type": "code",
      "source": [
        "%matplotlib inline\n",
        "import matplotlib.pyplot as plt\n",
        "\n",
        "#obtain the misclassification history in a list\n",
        "misc_history = []\n",
        "for w in weight_history:\n",
        "    # compare the predictions to the true labels\n",
        "    predictions = model(x, w)\n",
        "    misclassified = np.sum(np.argmax(predictions, axis=0) != y.flatten())\n",
        "    misc_history.append(misclassified)\n",
        "\n",
        "plt.plot(np.array(misc_history)/y.shape[1]);\n",
        "plt.xlabel(\"k\");\n",
        "plt.ylabel(\"misclassification ratio\");"
      ],
      "metadata": {
        "colab": {
          "base_uri": "https://localhost:8080/",
          "height": 283
        },
        "id": "E10PT7v9FDZV",
        "outputId": "d68a4be8-8801-4e43-c8fb-74b7f268b223"
      },
      "execution_count": null,
      "outputs": [
        {
          "output_type": "display_data",
          "data": {
            "text/plain": [
              "<Figure size 432x288 with 1 Axes>"
            ],
            "image/png": "[encoded data removed]"
          },
          "metadata": {
            "needs_background": "light"
          }
        }
      ]
    },
    {
      "cell_type": "markdown",
      "source": [
        "##**Multi-class Softmax**"
      ],
      "metadata": {
        "id": "80kJRRmTHH09"
      }
    },
    {
      "cell_type": "markdown",
      "source": [
        "Here we will use gradient descent for optimization and we need to make sure that the number of misclassifications is below 10.\n",
        "\n",
        "We can use the implementation of multiclass_perceptron as a basis for our imeplmentation of the multi-class Softmax cost."
      ],
      "metadata": {
        "id": "x2JwDoPAF59P"
      }
    },
    {
      "cell_type": "code",
      "source": [
        "!cat 4class_data.csv"
      ],
      "metadata": {
        "colab": {
          "base_uri": "https://localhost:8080/"
        },
        "id": "DVMwQYlgHKBT",
        "outputId": "dcc11581-8697-4812-c460-48804457bf3f"
      },
      "execution_count": null,
      "outputs": [
        {
          "output_type": "stream",
          "name": "stdout",
          "text": [
            "1.255799999999999972e-01,7.718899999999999373e-02,1.716600000000000070e-01,2.960800000000000098e-01,3.605999999999999761e-01,2.131299999999999861e-01,4.596799999999999775e-01,3.329500000000000237e-01,4.688899999999999735e-01,2.131299999999999861e-01,3.905500000000000083e-01,5.241900000000000448e-01,4.389399999999999968e-01,5.864099999999999868e-01,6.094500000000000473e-01,7.039199999999999902e-01,7.361799999999999455e-01,7.522999999999999687e-01,6.854799999999999782e-01,6.117500000000000160e-01,2.477000000000000035e-01,4.988500000000000156e-01,3.790299999999999780e-01,2.776500000000000079e-01,1.601400000000000046e-01,1.463099999999999956e-01,3.099100000000000188e-01,4.297199999999999909e-01,4.873299999999999854e-01,5.380200000000000538e-01,4.366399999999999726e-01,6.624400000000000288e-01,7.730399999999999494e-01,7.891700000000000381e-01,6.509200000000000541e-01,5.587600000000000344e-01,5.817999999999999838e-01,6.486199999999999743e-01,7.453899999999999970e-01,8.606000000000000316e-01\n",
            "7.594800000000000439e-01,6.311999999999999833e-01,4.562700000000000089e-01,6.020400000000000196e-01,7.944600000000000550e-01,8.644300000000000317e-01,5.932899999999999840e-01,4.708499999999999908e-01,8.061199999999999477e-01,6.953399999999999581e-01,6.691000000000000281e-01,7.361499999999999710e-01,4.766799999999999926e-01,5.058300000000000018e-01,6.486899999999999888e-01,8.352800000000000225e-01,5.553900000000000503e-01,7.099100000000000410e-01,4.183700000000000196e-01,8.964999999999999636e-01,5.087500000000000355e-01,5.204100000000000392e-01,3.892100000000000004e-01,3.163300000000000001e-01,3.425699999999999856e-01,1.647200000000000053e-01,1.501500000000000057e-01,2.550999999999999934e-01,3.979599999999999804e-01,1.997099999999999986e-01,1.239100000000000062e-01,5.145800000000000374e-01,4.679300000000000126e-01,2.755099999999999771e-01,2.580200000000000271e-01,3.921299999999999786e-01,3.046599999999999864e-01,1.209900000000000003e-01,1.297399999999999942e-01,3.746399999999999730e-01\n",
            "0.000000000000000000e+00,0.000000000000000000e+00,0.000000000000000000e+00,0.000000000000000000e+00,0.000000000000000000e+00,0.000000000000000000e+00,0.000000000000000000e+00,0.000000000000000000e+00,0.000000000000000000e+00,0.000000000000000000e+00,1.000000000000000000e+00,1.000000000000000000e+00,1.000000000000000000e+00,1.000000000000000000e+00,1.000000000000000000e+00,1.000000000000000000e+00,1.000000000000000000e+00,1.000000000000000000e+00,1.000000000000000000e+00,1.000000000000000000e+00,2.000000000000000000e+00,2.000000000000000000e+00,2.000000000000000000e+00,2.000000000000000000e+00,2.000000000000000000e+00,2.000000000000000000e+00,2.000000000000000000e+00,2.000000000000000000e+00,2.000000000000000000e+00,2.000000000000000000e+00,3.000000000000000000e+00,3.000000000000000000e+00,3.000000000000000000e+00,3.000000000000000000e+00,3.000000000000000000e+00,3.000000000000000000e+00,3.000000000000000000e+00,3.000000000000000000e+00,3.000000000000000000e+00,3.000000000000000000e+00\n"
          ]
        }
      ]
    },
    {
      "cell_type": "code",
      "source": [
        "# compute C linear combinations of input point, one per classifier\n",
        "def model(x,w):\n",
        "    a = w[0] + np.dot(x.T,w[1:])\n",
        "    return a.T"
      ],
      "metadata": {
        "id": "qKNKEu1PHOXF"
      },
      "execution_count": null,
      "outputs": []
    },
    {
      "cell_type": "code",
      "source": [
        "# multiclass softmaax regularized by the summed length of all normal vectors\n",
        "lam = 10**(-5)  # our regularization paramter\n",
        "# note we are implmenting 7.29 in the text\n",
        "def multiclass_softmax(w):\n",
        "    # pre-compute predictions on all points\n",
        "    all_evals = model(x,w)\n",
        "\n",
        "    # compute softmax across data points\n",
        "    a = np.log(np.sum(np.exp(all_evals),axis = 0))\n",
        "\n",
        "    # compute cost in compact form\n",
        "    b = all_evals[y.astype(int).flatten(),np.arange(np.size(y))]\n",
        "\n",
        "    cost = np.sum(a - b)\n",
        "    cost /= float(np.size(y))\n",
        "\n",
        "    # add regularizer\n",
        "    cost = cost + lam*np.linalg.norm(w[1:,:],'fro')**2\n",
        "\n",
        "    # return average\n",
        "    return cost"
      ],
      "metadata": {
        "id": "zhRKzK0kHQ9s"
      },
      "execution_count": null,
      "outputs": []
    },
    {
      "cell_type": "code",
      "source": [
        "# load in dataset\n",
        "data = np.loadtxt(datapath + '4class_data.csv',delimiter = ',')\n",
        "\n",
        "# get input/output pairs\n",
        "x = data[:-1,:]\n",
        "y = data[-1:,:]"
      ],
      "metadata": {
        "id": "coPx0M3YH5U6"
      },
      "execution_count": null,
      "outputs": []
    },
    {
      "cell_type": "code",
      "source": [
        "x.shape"
      ],
      "metadata": {
        "colab": {
          "base_uri": "https://localhost:8080/"
        },
        "id": "slbMD1rIH7pc",
        "outputId": "a44c4de1-6b05-4046-bed1-95df0d237d51"
      },
      "execution_count": null,
      "outputs": [
        {
          "output_type": "execute_result",
          "data": {
            "text/plain": [
              "(2, 40)"
            ]
          },
          "metadata": {},
          "execution_count": 299
        }
      ]
    },
    {
      "cell_type": "code",
      "source": [
        "y.shape"
      ],
      "metadata": {
        "colab": {
          "base_uri": "https://localhost:8080/"
        },
        "id": "9fTfGex9H9lH",
        "outputId": "f9708569-5cd0-47bf-e866-efb57b2f6575"
      },
      "execution_count": null,
      "outputs": [
        {
          "output_type": "execute_result",
          "data": {
            "text/plain": [
              "(1, 40)"
            ]
          },
          "metadata": {},
          "execution_count": 300
        }
      ]
    },
    {
      "cell_type": "code",
      "source": [
        "np.random.seed(5819)\n",
        "# run gradient descent to minimize cost\n",
        "# try different settings so that we can get number of classifications to be below 10\n",
        "g = multiclass_softmax; w = 0.1*np.random.randn(3,4); alpha_choice = 'diminishing'; max_its = 100;\n",
        "weight_history,cost_history = gradient_descent(g,alpha_choice,max_its,w, version= 'full')"
      ],
      "metadata": {
        "id": "10xZ7Y9PH-kJ"
      },
      "execution_count": null,
      "outputs": []
    },
    {
      "cell_type": "code",
      "source": [
        "%matplotlib inline\n",
        "import matplotlib.pyplot as plt\n",
        "\n",
        "plt.plot(cost_history);\n",
        "plt.xlabel(\"k\");\n",
        "plt.ylabel(\"g(w^k)\");"
      ],
      "metadata": {
        "colab": {
          "base_uri": "https://localhost:8080/",
          "height": 280
        },
        "id": "iKA6rGrHJSLr",
        "outputId": "48ad9360-87d3-4e39-a25a-54909878aa23"
      },
      "execution_count": null,
      "outputs": [
        {
          "output_type": "display_data",
          "data": {
            "text/plain": [
              "<Figure size 432x288 with 1 Axes>"
            ],
            "image/png": "[encoded data removed]"
          },
          "metadata": {
            "needs_background": "light"
          }
        }
      ]
    },
    {
      "cell_type": "code",
      "source": [
        "%matplotlib inline\n",
        "import matplotlib.pyplot as plt\n",
        "\n",
        "misc_history = []\n",
        "for w in weight_history:\n",
        "    predictions = model(x, w)\n",
        "    misclassified = np.sum(np.argmax(predictions, axis=0) != y.flatten())\n",
        "    misc_history.append(misclassified)\n",
        "\n",
        "plt.plot(misc_history);\n",
        "plt.xlabel(\"k\");\n",
        "plt.ylabel(\"misclassification\");"
      ],
      "metadata": {
        "colab": {
          "base_uri": "https://localhost:8080/",
          "height": 279
        },
        "id": "ylRUr-GWKfyI",
        "outputId": "72174dd3-1373-4037-e8e8-c49352ae79b2"
      },
      "execution_count": null,
      "outputs": [
        {
          "output_type": "display_data",
          "data": {
            "text/plain": [
              "<Figure size 432x288 with 1 Axes>"
            ],
            "image/png": "[encoded data removed]"
          },
          "metadata": {
            "needs_background": "light"
          }
        }
      ]
    },
    {
      "cell_type": "code",
      "source": [
        "y_pred = np.argmax(model(x,weight_history[-1]), axis = 0)\n",
        "print(\"number of misclassifications:\", np.sum(y_pred != y))"
      ],
      "metadata": {
        "colab": {
          "base_uri": "https://localhost:8080/"
        },
        "id": "c0q3pjz8Kr6T",
        "outputId": "0ab6c097-b2c4-49cb-93cb-d9bf20bd10bb"
      },
      "execution_count": null,
      "outputs": [
        {
          "output_type": "stream",
          "name": "stdout",
          "text": [
            "number of misclassifications: 9\n"
          ]
        }
      ]
    },
    {
      "cell_type": "code",
      "source": [
        "C = int(np.max(y))\n",
        "L = []\n",
        "for c in range(C+1):\n",
        "  ind = np.argwhere(y == c)\n",
        "  ind = [v[1] for v in ind]\n",
        "  for d in range(C+1):\n",
        "    count = 0\n",
        "    for idx in ind:\n",
        "      if y_pred[idx] == d:\n",
        "        count += 1\n",
        "    L.append(count)\n",
        "confusion = np.array(L).reshape(C+1,C+1)\n",
        "print(\"Confusion Matrix:\")\n",
        "print(confusion)"
      ],
      "metadata": {
        "colab": {
          "base_uri": "https://localhost:8080/"
        },
        "id": "haYLkc08JL2a",
        "outputId": "2f9d10af-ed01-4776-8cf7-d80c1171ca69"
      },
      "execution_count": null,
      "outputs": [
        {
          "output_type": "stream",
          "name": "stdout",
          "text": [
            "Confusion Matrix:\n",
            "[[8 2 0 0]\n",
            " [1 8 0 1]\n",
            " [1 1 6 2]\n",
            " [0 1 0 9]]\n"
          ]
        }
      ]
    }
  ]
}